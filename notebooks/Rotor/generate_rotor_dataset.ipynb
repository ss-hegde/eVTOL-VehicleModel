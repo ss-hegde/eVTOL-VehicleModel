{
 "cells": [
  {
   "cell_type": "markdown",
   "metadata": {},
   "source": [
    "\n",
    "# Simulation Case Generation\n",
    "\n",
    "This Jupyter Notebook is designed to generate simulation cases for rotor datasets. The notebook includes the following functionalities:\n",
    "\n",
    "1. **Importing Necessary Libraries**: The notebook imports the `random` module to generate random values for the simulation parameters.\n",
    "\n",
    "2. **Function Definition**: A function `generate_simulation_cases()` is defined to generate 50 simulation cases with varying parameters such as free-stream velocity, angle of attack, tilt, pitch, and RPM. The function also splits the generated cases into training and testing sets.\n",
    "\n",
    "3. **Generating and Printing Cases**: The function is called to generate the training and testing cases, which are then printed for review.\n",
    "\n",
    "This notebook helps in creating a diverse set of simulation scenarios to train the isolated rotor model.\n"
   ]
  },
  {
   "cell_type": "code",
   "execution_count": null,
   "metadata": {},
   "outputs": [],
   "source": [
    "import random\n",
    "\n",
    "def generate_simulation_cases():\n",
    "    # Base values for b and ar\n",
    "    base_rpm = 1500.0\n",
    "    base_pitch = 0.0\n",
    "    base_tilt = 90.0\n",
    "    # base_ar = 15.0\n",
    "\n",
    "    # Parameter ranges\n",
    "    magVinf_range = (1.0, 20.0)  # Free-stream velocity\n",
    "    AOA_range = (-2.0, 8.0)     # Angle of attack\n",
    "    tilt_range = (85.0, 95.0)\n",
    "    pitch_range = (-2.0, 2.0)\n",
    "    rpm_range = (1000, 2000)\n",
    "    CW = bool(0)\n",
    "    J = 0.001   # Hovering\n",
    "    rotor_file = \"H26F_scaled.csv\"  # Fixed airfoil name\n",
    "\n",
    "    # Generate 50 cases\n",
    "    cases = []\n",
    "    for i in range(50):\n",
    "        magVinf = round(random.uniform(*magVinf_range), 1)\n",
    "        AOA = round(random.uniform(*AOA_range), 1)\n",
    "        tilt = round(random.uniform(*tilt_range), 1)\n",
    "        pitch = round(random.uniform(*pitch_range), 1)\n",
    "        RPM = round(random.uniform(*rpm_range), 0)\n",
    "\n",
    "        run_name = f\"rotor_dataset_H26F_rpm_{RPM}_vinf_{magVinf}_{pitch}_{tilt}\"\n",
    "        cases.append((run_name, rotor_file, RPM, magVinf, J, AOA, pitch, tilt, CW))\n",
    "\n",
    "    # Split into training and testing sets\n",
    "    training_cases = cases[:40]\n",
    "    testing_cases = cases[40:]\n",
    "\n",
    "    return training_cases, testing_cases\n",
    "\n",
    "# Generate cases\n",
    "training_cases, testing_cases = generate_simulation_cases()\n",
    "\n",
    "# Print the results\n",
    "print(\"Training Cases:\")\n",
    "for case in training_cases:\n",
    "    print(case,\",\")\n",
    "\n",
    "print(\"\\nTesting Cases:\")\n",
    "for case in testing_cases:\n",
    "    print(case,\",\")\n"
   ]
  }
 ],
 "metadata": {
  "kernelspec": {
   "display_name": "vehicle_env",
   "language": "python",
   "name": "python3"
  },
  "language_info": {
   "codemirror_mode": {
    "name": "ipython",
    "version": 3
   },
   "file_extension": ".py",
   "mimetype": "text/x-python",
   "name": "python",
   "nbconvert_exporter": "python",
   "pygments_lexer": "ipython3",
   "version": "3.11.0"
  }
 },
 "nbformat": 4,
 "nbformat_minor": 2
}
