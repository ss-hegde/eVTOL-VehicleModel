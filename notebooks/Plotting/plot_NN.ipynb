{
 "cells": [
  {
   "cell_type": "code",
   "execution_count": 1,
   "metadata": {},
   "outputs": [
    {
     "data": {
      "text/plain": [
       "256"
      ]
     },
     "execution_count": 1,
     "metadata": {},
     "output_type": "execute_result"
    }
   ],
   "source": [
    "from graphviz import Digraph\n",
    "import os\n",
    "\n",
    "dot = Digraph(comment='Neural Network', graph_attr={'rankdir': 'LR'})\n",
    "\n",
    "# Adding nodes (representing layers)\n",
    "dot.node('A1', 'x1')\n",
    "dot.node('A2', 'x2')\n",
    "dot.node('B1', 'h1')\n",
    "dot.node('B2', 'h2')\n",
    "# dot.node('C', 'Hidden Layer 2')\n",
    "dot.node('C', 'y')\n",
    "\n",
    "# Adding edges (connections between layers)\n",
    "dot.edge('A1', 'B1')\n",
    "dot.edge('A1', 'B2')\n",
    "dot.edge('A2', 'B1')\n",
    "dot.edge('A2', 'B2')\n",
    "dot.edge('B1', 'C')\n",
    "dot.edge('B2', 'C')\n",
    "# dot.edge('C', 'D')\n",
    "\n",
    "# Render and view\n",
    "dot.render('nn_diagram', format='png')\n",
    "\n",
    "# View the diagram using Windows default viewer\n",
    "os.system('explorer.exe nn_diagram.png')\n"
   ]
  }
 ],
 "metadata": {
  "kernelspec": {
   "display_name": "vehicle_env",
   "language": "python",
   "name": "python3"
  },
  "language_info": {
   "codemirror_mode": {
    "name": "ipython",
    "version": 3
   },
   "file_extension": ".py",
   "mimetype": "text/x-python",
   "name": "python",
   "nbconvert_exporter": "python",
   "pygments_lexer": "ipython3",
   "version": "3.11.0"
  }
 },
 "nbformat": 4,
 "nbformat_minor": 2
}
