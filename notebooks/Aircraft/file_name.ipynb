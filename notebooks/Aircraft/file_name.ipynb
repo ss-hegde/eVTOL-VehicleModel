{
 "cells": [
  {
   "cell_type": "code",
   "execution_count": 3,
   "metadata": {},
   "outputs": [],
   "source": [
    "import os\n",
    "\n",
    "def rename_files_in_folders(root_dir):\n",
    "    \"\"\"\n",
    "    Traverse all folders and rename specific files based on given rules.\n",
    "\n",
    "    Args:\n",
    "        root_dir (str): Root directory to start searching for files.\n",
    "    \"\"\"\n",
    "    # Mapping of old filenames to new filenames\n",
    "    rename_map = {\n",
    "        \"Canarad_convergence.csv\": \"eMO_Canard_convergence.csv\",\n",
    "        \"canard_geometry_data.csv\": \"Canard_geometry_data.csv\",\n",
    "        \"wing_main_convergence.csv\": \"eMO_wing_main_convergence.csv\",\n",
    "        \"wing_geometry_data.csv\": \"wing_main_geometry_data.csv\"\n",
    "    }\n",
    "    \n",
    "    # Traverse through all subdirectories and files\n",
    "    for dirpath, _, filenames in os.walk(root_dir):\n",
    "        for filename in filenames:\n",
    "            # Check if the file matches any of the keys in rename_map\n",
    "            if filename in rename_map:\n",
    "                old_file_path = os.path.join(dirpath, filename)\n",
    "                new_file_path = os.path.join(dirpath, rename_map[filename])\n",
    "                \n",
    "                # Rename the file\n",
    "                try:\n",
    "                    os.rename(old_file_path, new_file_path)\n",
    "                    print(f\"Renamed: {old_file_path} -> {new_file_path}\")\n",
    "                except Exception as e:\n",
    "                    print(f\"Error renaming {old_file_path}: {e}\")"
   ]
  },
  {
   "cell_type": "code",
   "execution_count": 5,
   "metadata": {},
   "outputs": [],
   "source": [
    "root = \"/mnt/e/eVTOL_model/eVTOL-VehicleModel/FLOWUnsteady_simulations/aircraft_data/testing_data\""
   ]
  },
  {
   "cell_type": "code",
   "execution_count": 6,
   "metadata": {},
   "outputs": [
    {
     "name": "stdout",
     "output_type": "stream",
     "text": [
      "Renamed: /mnt/e/eVTOL_model/eVTOL-VehicleModel/FLOWUnsteady_simulations/aircraft_data/testing_data/eMO_hover_v4_r2000_a5/Canarad_convergence.csv -> /mnt/e/eVTOL_model/eVTOL-VehicleModel/FLOWUnsteady_simulations/aircraft_data/testing_data/eMO_hover_v4_r2000_a5/eMO_Canard_convergence.csv\n",
      "Renamed: /mnt/e/eVTOL_model/eVTOL-VehicleModel/FLOWUnsteady_simulations/aircraft_data/testing_data/eMO_hover_v4_r2000_a5/wing_main_convergence.csv -> /mnt/e/eVTOL_model/eVTOL-VehicleModel/FLOWUnsteady_simulations/aircraft_data/testing_data/eMO_hover_v4_r2000_a5/eMO_wing_main_convergence.csv\n",
      "Renamed: /mnt/e/eVTOL_model/eVTOL-VehicleModel/FLOWUnsteady_simulations/aircraft_data/testing_data/eMO_hover_v6_r2000_a5/Canarad_convergence.csv -> /mnt/e/eVTOL_model/eVTOL-VehicleModel/FLOWUnsteady_simulations/aircraft_data/testing_data/eMO_hover_v6_r2000_a5/eMO_Canard_convergence.csv\n",
      "Renamed: /mnt/e/eVTOL_model/eVTOL-VehicleModel/FLOWUnsteady_simulations/aircraft_data/testing_data/eMO_hover_v6_r2000_a5/wing_main_convergence.csv -> /mnt/e/eVTOL_model/eVTOL-VehicleModel/FLOWUnsteady_simulations/aircraft_data/testing_data/eMO_hover_v6_r2000_a5/eMO_wing_main_convergence.csv\n",
      "Renamed: /mnt/e/eVTOL_model/eVTOL-VehicleModel/FLOWUnsteady_simulations/aircraft_data/testing_data/eMO_hover_v8_r1800_a1/Canarad_convergence.csv -> /mnt/e/eVTOL_model/eVTOL-VehicleModel/FLOWUnsteady_simulations/aircraft_data/testing_data/eMO_hover_v8_r1800_a1/eMO_Canard_convergence.csv\n",
      "Renamed: /mnt/e/eVTOL_model/eVTOL-VehicleModel/FLOWUnsteady_simulations/aircraft_data/testing_data/eMO_hover_v8_r1800_a1/wing_main_convergence.csv -> /mnt/e/eVTOL_model/eVTOL-VehicleModel/FLOWUnsteady_simulations/aircraft_data/testing_data/eMO_hover_v8_r1800_a1/eMO_wing_main_convergence.csv\n"
     ]
    }
   ],
   "source": [
    "rename_files_in_folders(root)"
   ]
  }
 ],
 "metadata": {
  "kernelspec": {
   "display_name": "vehicle_env",
   "language": "python",
   "name": "python3"
  },
  "language_info": {
   "codemirror_mode": {
    "name": "ipython",
    "version": 3
   },
   "file_extension": ".py",
   "mimetype": "text/x-python",
   "name": "python",
   "nbconvert_exporter": "python",
   "pygments_lexer": "ipython3",
   "version": "3.11.0"
  }
 },
 "nbformat": 4,
 "nbformat_minor": 2
}
