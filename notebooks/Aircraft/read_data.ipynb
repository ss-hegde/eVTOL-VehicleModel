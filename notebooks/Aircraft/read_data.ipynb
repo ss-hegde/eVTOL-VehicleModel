{
 "cells": [
  {
   "cell_type": "code",
   "execution_count": 1,
   "metadata": {},
   "outputs": [],
   "source": [
    "import os\n",
    "import pandas as pd\n",
    "import numpy as np\n",
    "\n",
    "import sys\n",
    "import torch\n",
    "import torch.nn as nn\n",
    "from torch.utils.data import Dataset, DataLoader\n",
    "from scipy.fftpack import fft, ifft\n",
    "from scipy.interpolate import CubicSpline\n",
    "import matplotlib.pyplot as plt"
   ]
  },
  {
   "cell_type": "code",
   "execution_count": 2,
   "metadata": {},
   "outputs": [
    {
     "name": "stdout",
     "output_type": "stream",
     "text": [
      "cuda:0\n"
     ]
    }
   ],
   "source": [
    "# Check if GPU is available\n",
    "device = torch.device(\"cuda:0\" if torch.cuda.is_available() else \"cpu\")\n",
    "print(device)"
   ]
  },
  {
   "cell_type": "code",
   "execution_count": 3,
   "metadata": {},
   "outputs": [],
   "source": [
    "sys.path.append('/mnt/e/eVTOL_model/eVTOL-VehicleModel/src')\n",
    "\n",
    "\n",
    "# Import necessary functions\n",
    "from utility_functions import downsample_to_35\n",
    "from utility_functions import organize_data\n",
    "\n",
    "# Import all the models\n",
    "from af_escnn_cl import ESCNN_Cl\n",
    "from af_escnn_cd import ESCNN_Cd\n",
    "\n",
    "from af_rbf_cl import RBFLayer_cl, RBFNet_cl\n",
    "from af_rbf_cd import RBFLayer_cd, RBFNet_cd"
   ]
  },
  {
   "cell_type": "markdown",
   "metadata": {},
   "source": [
    "### Initialize Airfoil Models"
   ]
  },
  {
   "cell_type": "code",
   "execution_count": null,
   "metadata": {},
   "outputs": [
    {
     "name": "stderr",
     "output_type": "stream",
     "text": [
      "/tmp/ipykernel_1712292/829076333.py:7: FutureWarning: You are using `torch.load` with `weights_only=False` (the current default value), which uses the default pickle module implicitly. It is possible to construct malicious pickle data which will execute arbitrary code during unpickling (See https://github.com/pytorch/pytorch/blob/main/SECURITY.md#untrusted-models for more details). In a future release, the default value for `weights_only` will be flipped to `True`. This limits the functions that could be executed during unpickling. Arbitrary objects will no longer be allowed to be loaded via this mode unless they are explicitly allowlisted by the user via `torch.serialization.add_safe_globals`. We recommend you start setting `weights_only=True` for any use case where you don't have full control of the loaded file. Please open an issue on GitHub for any issues related to this experimental feature.\n",
      "  af_model_ESCNN_Cl.load_state_dict(torch.load(root_airfoilModelsTrained + '2024-11-18_model_Cl_ESCNN_lr1e-05_e1500_rbf170_convL4.pth'))\n",
      "/tmp/ipykernel_1712292/829076333.py:13: FutureWarning: You are using `torch.load` with `weights_only=False` (the current default value), which uses the default pickle module implicitly. It is possible to construct malicious pickle data which will execute arbitrary code during unpickling (See https://github.com/pytorch/pytorch/blob/main/SECURITY.md#untrusted-models for more details). In a future release, the default value for `weights_only` will be flipped to `True`. This limits the functions that could be executed during unpickling. Arbitrary objects will no longer be allowed to be loaded via this mode unless they are explicitly allowlisted by the user via `torch.serialization.add_safe_globals`. We recommend you start setting `weights_only=True` for any use case where you don't have full control of the loaded file. Please open an issue on GitHub for any issues related to this experimental feature.\n",
      "  af_model_ESCNN_Cd.load_state_dict(torch.load(root_airfoilModelsTrained + '2024-11-18_model_Cd_ESCNN_lr5e-05_e250_convL3.pth'))\n",
      "/tmp/ipykernel_1712292/829076333.py:21: FutureWarning: You are using `torch.load` with `weights_only=False` (the current default value), which uses the default pickle module implicitly. It is possible to construct malicious pickle data which will execute arbitrary code during unpickling (See https://github.com/pytorch/pytorch/blob/main/SECURITY.md#untrusted-models for more details). In a future release, the default value for `weights_only` will be flipped to `True`. This limits the functions that could be executed during unpickling. Arbitrary objects will no longer be allowed to be loaded via this mode unless they are explicitly allowlisted by the user via `torch.serialization.add_safe_globals`. We recommend you start setting `weights_only=True` for any use case where you don't have full control of the loaded file. Please open an issue on GitHub for any issues related to this experimental feature.\n",
      "  kmeans_center_cl = torch.load(root_airfoilModelsTrained + '2024-11-19_airfoil_model_Cl_ESCNN_RBF_lr0.06_epoch200_rbfUnits4_RBFcenters.pth')\n",
      "/tmp/ipykernel_1712292/829076333.py:22: FutureWarning: You are using `torch.load` with `weights_only=False` (the current default value), which uses the default pickle module implicitly. It is possible to construct malicious pickle data which will execute arbitrary code during unpickling (See https://github.com/pytorch/pytorch/blob/main/SECURITY.md#untrusted-models for more details). In a future release, the default value for `weights_only` will be flipped to `True`. This limits the functions that could be executed during unpickling. Arbitrary objects will no longer be allowed to be loaded via this mode unless they are explicitly allowlisted by the user via `torch.serialization.add_safe_globals`. We recommend you start setting `weights_only=True` for any use case where you don't have full control of the loaded file. Please open an issue on GitHub for any issues related to this experimental feature.\n",
      "  kmeans_center_cd = torch.load(root_airfoilModelsTrained + '2024-11-19_airfoil_model_Cd_ESCNN_RBF_lr0.025_epoch100_rbfUnits4_RBFcenters.pth')\n",
      "/tmp/ipykernel_1712292/829076333.py:37: FutureWarning: You are using `torch.load` with `weights_only=False` (the current default value), which uses the default pickle module implicitly. It is possible to construct malicious pickle data which will execute arbitrary code during unpickling (See https://github.com/pytorch/pytorch/blob/main/SECURITY.md#untrusted-models for more details). In a future release, the default value for `weights_only` will be flipped to `True`. This limits the functions that could be executed during unpickling. Arbitrary objects will no longer be allowed to be loaded via this mode unless they are explicitly allowlisted by the user via `torch.serialization.add_safe_globals`. We recommend you start setting `weights_only=True` for any use case where you don't have full control of the loaded file. Please open an issue on GitHub for any issues related to this experimental feature.\n",
      "  airfoil_cl.load_state_dict(torch.load(root_airfoilModelsTrained + '2024-11-19_airfoil_model_Cl_ESCNN_RBF_lr0.06_epoch200_rbfUnits4.pth'))\n",
      "/tmp/ipykernel_1712292/829076333.py:40: FutureWarning: You are using `torch.load` with `weights_only=False` (the current default value), which uses the default pickle module implicitly. It is possible to construct malicious pickle data which will execute arbitrary code during unpickling (See https://github.com/pytorch/pytorch/blob/main/SECURITY.md#untrusted-models for more details). In a future release, the default value for `weights_only` will be flipped to `True`. This limits the functions that could be executed during unpickling. Arbitrary objects will no longer be allowed to be loaded via this mode unless they are explicitly allowlisted by the user via `torch.serialization.add_safe_globals`. We recommend you start setting `weights_only=True` for any use case where you don't have full control of the loaded file. Please open an issue on GitHub for any issues related to this experimental feature.\n",
      "  airfoil_cd.load_state_dict(torch.load(root_airfoilModelsTrained + '2024-11-19_airfoil_model_Cd_ESCNN_RBF_lr0.025_epoch100_rbfUnits4.pth'))\n"
     ]
    },
    {
     "data": {
      "text/plain": [
       "airfoilModel_cd(\n",
       "  (rbf): RBFLayer_cd()\n",
       "  (fc): Linear(in_features=4, out_features=4, bias=True)\n",
       ")"
      ]
     },
     "execution_count": 4,
     "metadata": {},
     "output_type": "execute_result"
    }
   ],
   "source": [
    "# Initialize airfoil models\n",
    "root_airfoilModelsTrained = '/mnt/e/eVTOL_model/eVTOL-VehicleModel/trained_models/models/airfoil/'\n",
    "# root_scalers = '/mnt/e/eVTOL_model/eVTOL-VehicleModel/trained_models/scalers/'\n",
    "\n",
    "# Load the model weights\n",
    "af_model_ESCNN_Cl = ESCNN_Cl()\n",
    "af_model_ESCNN_Cl.load_state_dict(torch.load(root_airfoilModelsTrained + '2024-11-18_model_Cl_ESCNN_lr1e-05_e1500_rbf170_convL4.pth'))\n",
    "af_model_ESCNN_Cl = af_model_ESCNN_Cl.to(device)\n",
    "af_model_ESCNN_Cl.eval()\n",
    "\n",
    "# Load the model weights\n",
    "af_model_ESCNN_Cd = ESCNN_Cd()\n",
    "af_model_ESCNN_Cd.load_state_dict(torch.load(root_airfoilModelsTrained + '2024-11-18_model_Cd_ESCNN_lr5e-05_e250_convL3.pth'))\n",
    "af_model_ESCNN_Cd = af_model_ESCNN_Cd.to(device)\n",
    "af_model_ESCNN_Cd.eval()\n",
    "\n",
    "input_size = 140\n",
    "output_size = 4\n",
    "num_rbf_units = 4\n",
    "\n",
    "kmeans_center_cl = torch.load(root_airfoilModelsTrained + '2024-11-19_airfoil_model_Cl_ESCNN_RBF_lr0.06_epoch200_rbfUnits4_RBFcenters.pth')\n",
    "kmeans_center_cd = torch.load(root_airfoilModelsTrained + '2024-11-19_airfoil_model_Cd_ESCNN_RBF_lr0.025_epoch100_rbfUnits4_RBFcenters.pth')\n",
    "\n",
    "\n",
    "class airfoilModel_cl(RBFNet_cl):\n",
    "    def __init__(self):\n",
    "        super(airfoilModel_cl, self).__init__(input_size, num_rbf_units, output_size, kmeans_center_cl)\n",
    "\n",
    "\n",
    "class airfoilModel_cd(RBFNet_cd):\n",
    "    def __init__(self):\n",
    "        super(airfoilModel_cd, self).__init__(input_size, num_rbf_units, output_size, kmeans_center_cd)\n",
    "\n",
    "\n",
    "# Initialize the model\n",
    "airfoil_cl = airfoilModel_cl()\n",
    "airfoil_cl.load_state_dict(torch.load(root_airfoilModelsTrained + '2024-11-19_airfoil_model_Cl_ESCNN_RBF_lr0.06_epoch200_rbfUnits4.pth'))\n",
    "\n",
    "airfoil_cd = airfoilModel_cd()\n",
    "airfoil_cd.load_state_dict(torch.load(root_airfoilModelsTrained + '2024-11-19_airfoil_model_Cd_ESCNN_RBF_lr0.025_epoch100_rbfUnits4.pth'))\n",
    "\n",
    "airfoil_cl = airfoil_cl.to(device)\n",
    "airfoil_cd = airfoil_cd.to(device)\n",
    "\n",
    "airfoil_cl.eval()\n",
    "airfoil_cd.eval()\n",
    "\n"
   ]
  },
  {
   "cell_type": "markdown",
   "metadata": {},
   "source": [
    "## Load Wing Data"
   ]
  },
  {
   "cell_type": "code",
   "execution_count": null,
   "metadata": {},
   "outputs": [
    {
     "name": "stdout",
     "output_type": "stream",
     "text": [
      "create_wing_dataset module loaded\n"
     ]
    },
    {
     "name": "stderr",
     "output_type": "stream",
     "text": [
      "/mnt/e/eVTOL_model/eVTOL-VehicleModel/src/create_wing_dataset.py:376: UserWarning: Creating a tensor from a list of numpy.ndarrays is extremely slow. Please consider converting the list to a single numpy.ndarray with numpy.array() before converting to a tensor. (Triggered internally at ../torch/csrc/utils/tensor_new.cpp:278.)\n",
      "  return torch.tensor(inputs, dtype=torch.float32), torch.tensor(targets, dtype=torch.float32)\n"
     ]
    },
    {
     "name": "stdout",
     "output_type": "stream",
     "text": [
      "Input shape (Canard dataset): torch.Size([22, 277, 10])\n",
      "Output shape (Canard dataset): torch.Size([22, 277, 2])\n",
      "Input shape (Wing dataset): torch.Size([22, 277, 10])\n",
      "Output shape (Wing dataset): torch.Size([22, 277, 2])\n"
     ]
    }
   ],
   "source": [
    "from create_wing_dataset import WingDataset, subdir_condition_wing   # Make sure to reload the create wing dataset module manually after changes\n",
    "\n",
    "# root_dir_wing = '/mnt/e/Course_Materials/ROM/wing_model/FLOWUnsteady_simulations/eMO_dataset_train'\n",
    "root_dir_wing = '/mnt/e/eVTOL_model/eVTOL-VehicleModel/FLOWUnsteady_simulations'\n",
    "\n",
    "# Canard dataset\n",
    "dataset_canard = WingDataset(root_dir_wing, \n",
    "                                af_model_ESCNN_Cl=af_model_ESCNN_Cl, \n",
    "                                af_model_ESCNN_Cd=af_model_ESCNN_Cd,\n",
    "                                airfoil_cl=airfoil_cl, \n",
    "                                airfoil_cd=airfoil_cd, \n",
    "                                device=device,\n",
    "                                wing_name = 'Canard',     # select 'wing_main' or 'Canard'  \n",
    "                                subdir_condition=subdir_condition_wing)\n",
    "\n",
    "inputs_canard, outputs_canard = dataset_canard[0:]\n",
    "\n",
    "input_tensor_canard = inputs_canard\n",
    "input_tensor_canard = inputs_canard.squeeze(1)  # Reshaping\n",
    "print(\"Input shape (Canard dataset):\", input_tensor_canard.shape)\n",
    "\n",
    "output_tensor_canard = outputs_canard.squeeze(1)\n",
    "print(\"Output shape (Canard dataset):\",output_tensor_canard.shape) \n",
    "\n",
    "# Wing dataset\n",
    "dataset_wing = WingDataset(root_dir_wing, \n",
    "                            af_model_ESCNN_Cl=af_model_ESCNN_Cl, \n",
    "                            af_model_ESCNN_Cd=af_model_ESCNN_Cd,\n",
    "                            airfoil_cl=airfoil_cl, \n",
    "                            airfoil_cd=airfoil_cd, \n",
    "                            device=device,\n",
    "                            wing_name = 'wing_main',     # select 'wing_main' or 'Canard'  \n",
    "                            subdir_condition=subdir_condition_wing)\n",
    "\n",
    "inputs_wing, outputs_wing = dataset_wing[0:]\n",
    "\n",
    "input_tensor_wing = inputs_wing\n",
    "input_tensor_wing = inputs_wing.squeeze(1)  # Reshaping\n",
    "print(\"Input shape (Wing dataset):\", input_tensor_wing.shape)\n",
    "\n",
    "output_tensor_wing = outputs_wing.squeeze(1)\n",
    "print(\"Output shape (Wing dataset):\",output_tensor_wing.shape) \n",
    "\n",
    "\n"
   ]
  },
  {
   "cell_type": "markdown",
   "metadata": {},
   "source": [
    "## Load Rotor Data"
   ]
  },
  {
   "cell_type": "code",
   "execution_count": 7,
   "metadata": {},
   "outputs": [
    {
     "name": "stdout",
     "output_type": "stream",
     "text": [
      "Input shape (rotor - L1): torch.Size([22, 280, 10])\n",
      "Output shape (rotor - L1): torch.Size([22, 280, 4])\n",
      "Input shape (rotor - L2): torch.Size([22, 280, 10])\n",
      "Output shape (rotor - L2): torch.Size([22, 280, 4])\n",
      "Input shape (rotor - L3): torch.Size([22, 280, 10])\n",
      "Output shape (rotor - L3): torch.Size([22, 280, 4])\n",
      "Input shape (rotor - L4): torch.Size([22, 280, 10])\n",
      "Output shape (rotor - L4): torch.Size([22, 280, 4])\n"
     ]
    }
   ],
   "source": [
    "from create_rotor_dataset import PropellerDataset, subdir_condition_rotor\n",
    "\n",
    "# Root directory where simulation subdirectories are stored\n",
    "# root_dir_rotor = '/mnt/e/Course_Materials/ROM/rotor_solver/FLOWUnsteady_simulations/train_data'\n",
    "root_dir_rotor = '/mnt/e/eVTOL_model/eVTOL-VehicleModel/FLOWUnsteady_simulations'\n",
    "\n",
    "# dataset - Rotor L1\n",
    "dataset_rotor_L1 = PropellerDataset(root_dir_rotor,\n",
    "                           rotor_notation = 'L1',                       # Select: L1, L2, L3, L4, R1, R2, R3, R4\n",
    "                           subdir_condition=subdir_condition_rotor)\n",
    "inputs_rL1, outputs_rL1 = dataset_rotor_L1[0:]\n",
    "\n",
    "\n",
    "input_tensor_rL1 = inputs_rL1.squeeze(1)  # Reshaping\n",
    "print(\"Input shape (rotor - L1):\", input_tensor_rL1.shape) \n",
    "\n",
    "output_tensor_rL1 = outputs_rL1.squeeze(1)\n",
    "print(\"Output shape (rotor - L1):\",output_tensor_rL1.shape) \n",
    "\n",
    "\n",
    "# dataset - Rotor L2\n",
    "dataset_rotor_L2 = PropellerDataset(root_dir_rotor,\n",
    "                           rotor_notation = 'L2',                       # Select: L1, L2, L3, L4, R1, R2, R3, R4\n",
    "                           subdir_condition=subdir_condition_rotor)\n",
    "inputs_rL2, outputs_rL2 = dataset_rotor_L2[0:]\n",
    "\n",
    "\n",
    "input_tensor_rL2 = inputs_rL2.squeeze(1)  # Reshaping\n",
    "print(\"Input shape (rotor - L2):\", input_tensor_rL2.shape) \n",
    "\n",
    "output_tensor_rL2 = outputs_rL2.squeeze(1)\n",
    "print(\"Output shape (rotor - L2):\",output_tensor_rL2.shape) \n",
    "\n",
    "# dataset - Rotor L3\n",
    "dataset_rotor_L3 = PropellerDataset(root_dir_rotor,\n",
    "                           rotor_notation = 'L3',                       # Select: L1, L2, L3, L4, R1, R2, R3, R4\n",
    "                           subdir_condition=subdir_condition_rotor)\n",
    "inputs_rL3, outputs_rL3 = dataset_rotor_L3[0:]\n",
    "\n",
    "\n",
    "input_tensor_rL3 = inputs_rL3.squeeze(1)  # Reshaping\n",
    "print(\"Input shape (rotor - L3):\", input_tensor_rL3.shape) \n",
    "\n",
    "output_tensor_rL3 = outputs_rL3.squeeze(1)\n",
    "print(\"Output shape (rotor - L3):\",output_tensor_rL3.shape) \n",
    "\n",
    "# dataset - Rotor L4\n",
    "dataset_rotor_L4 = PropellerDataset(root_dir_rotor,\n",
    "                           rotor_notation = 'L4',                       # Select: L1, L2, L3, L4, R1, R2, R3, R4\n",
    "                           subdir_condition=subdir_condition_rotor)\n",
    "inputs_rL4, outputs_rL4 = dataset_rotor_L4[0:]\n",
    "\n",
    "\n",
    "input_tensor_rL4 = inputs_rL4.squeeze(1)  # Reshaping\n",
    "print(\"Input shape (rotor - L4):\", input_tensor_rL4.shape) \n",
    "\n",
    "output_tensor_rL4 = outputs_rL4.squeeze(1)\n",
    "print(\"Output shape (rotor - L4):\",output_tensor_rL4.shape) \n",
    "\n",
    "\n"
   ]
  },
  {
   "cell_type": "code",
   "execution_count": 8,
   "metadata": {},
   "outputs": [
    {
     "name": "stdout",
     "output_type": "stream",
     "text": [
      "Input shape (rotor - R1): torch.Size([22, 280, 10])\n",
      "Output shape (rotor - R1): torch.Size([22, 280, 4])\n",
      "Input shape (rotor - R2): torch.Size([22, 280, 10])\n",
      "Output shape (rotor - R2): torch.Size([22, 280, 4])\n",
      "Input shape (rotor - R3): torch.Size([22, 280, 10])\n",
      "Output shape (rotor - R3): torch.Size([22, 280, 4])\n",
      "Input shape (rotor - R4): torch.Size([22, 280, 10])\n",
      "Output shape (rotor - R4): torch.Size([22, 280, 4])\n"
     ]
    }
   ],
   "source": [
    "# dataset - Rotor R1\n",
    "dataset_rotor_R1 = PropellerDataset(root_dir_rotor,\n",
    "                           rotor_notation = 'R1',                       # Select: L1, L2, L3, L4, R1, R2, R3, R4\n",
    "                           subdir_condition=subdir_condition_rotor)\n",
    "inputs_rR1, outputs_rR1 = dataset_rotor_R1[0:]\n",
    "\n",
    "\n",
    "input_tensor_rR1 = inputs_rR1.squeeze(1)  # Reshaping\n",
    "print(\"Input shape (rotor - R1):\", input_tensor_rR1.shape) \n",
    "\n",
    "output_tensor_rR1 = outputs_rR1.squeeze(1)\n",
    "print(\"Output shape (rotor - R1):\",output_tensor_rR1.shape) \n",
    "\n",
    "\n",
    "# dataset - Rotor R2\n",
    "dataset_rotor_R2 = PropellerDataset(root_dir_rotor,\n",
    "                           rotor_notation = 'R2',                       # Select: L1, L2, L3, L4, R1, R2, R3, R4\n",
    "                           subdir_condition=subdir_condition_rotor)\n",
    "inputs_rR2, outputs_rR2 = dataset_rotor_R2[0:]\n",
    "\n",
    "\n",
    "input_tensor_rR2 = inputs_rR2.squeeze(1)  # Reshaping\n",
    "print(\"Input shape (rotor - R2):\", input_tensor_rR2.shape) \n",
    "\n",
    "output_tensor_rR2 = outputs_rR2.squeeze(1)\n",
    "print(\"Output shape (rotor - R2):\",output_tensor_rR2.shape) \n",
    "\n",
    "# dataset - Rotor R3\n",
    "dataset_rotor_R3 = PropellerDataset(root_dir_rotor,\n",
    "                           rotor_notation = 'R3',                       # Select: L1, L2, L3, L4, R1, R2, R3, R4\n",
    "                           subdir_condition=subdir_condition_rotor)\n",
    "inputs_rR3, outputs_rR3 = dataset_rotor_R3[0:]\n",
    "\n",
    "\n",
    "input_tensor_rR3 = inputs_rR3.squeeze(1)  # Reshaping\n",
    "print(\"Input shape (rotor - R3):\", input_tensor_rR3.shape) \n",
    "\n",
    "output_tensor_rR3 = outputs_rR3.squeeze(1)\n",
    "print(\"Output shape (rotor - R3):\",output_tensor_rR3.shape) \n",
    "\n",
    "# dataset - Rotor R4\n",
    "dataset_rotor_R4 = PropellerDataset(root_dir_rotor,\n",
    "                           rotor_notation = 'R4',                       # Select: L1, L2, L3, L4, R1, R2, R3, R4\n",
    "                           subdir_condition=subdir_condition_rotor)\n",
    "inputs_rR4, outputs_rR4 = dataset_rotor_R4[0:]\n",
    "\n",
    "\n",
    "input_tensor_rR4 = inputs_rR4.squeeze(1)  # Reshaping\n",
    "print(\"Input shape (rotor - R4):\", input_tensor_rR4.shape) \n",
    "\n",
    "output_tensor_rR4 = outputs_rR4.squeeze(1)\n",
    "print(\"Output shape (rotor - R4):\",output_tensor_rR4.shape) "
   ]
  }
 ],
 "metadata": {
  "kernelspec": {
   "display_name": "vehicle_env",
   "language": "python",
   "name": "python3"
  },
  "language_info": {
   "codemirror_mode": {
    "name": "ipython",
    "version": 3
   },
   "file_extension": ".py",
   "mimetype": "text/x-python",
   "name": "python",
   "nbconvert_exporter": "python",
   "pygments_lexer": "ipython3",
   "version": "3.11.0"
  }
 },
 "nbformat": 4,
 "nbformat_minor": 2
}
